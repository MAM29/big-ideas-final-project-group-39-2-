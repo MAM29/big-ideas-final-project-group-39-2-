{
 "cells": [
  {
   "cell_type": "code",
   "execution_count": 19,
   "metadata": {},
   "outputs": [
    {
     "data": {
      "text/html": [
       "<div>\n",
       "<style scoped>\n",
       "    .dataframe tbody tr th:only-of-type {\n",
       "        vertical-align: middle;\n",
       "    }\n",
       "\n",
       "    .dataframe tbody tr th {\n",
       "        vertical-align: top;\n",
       "    }\n",
       "\n",
       "    .dataframe thead th {\n",
       "        text-align: right;\n",
       "    }\n",
       "</style>\n",
       "<table border=\"1\" class=\"dataframe\">\n",
       "  <thead>\n",
       "    <tr style=\"text-align: right;\">\n",
       "      <th></th>\n",
       "      <th>hood</th>\n",
       "      <th>geoid10</th>\n",
       "    </tr>\n",
       "  </thead>\n",
       "  <tbody>\n",
       "    <tr>\n",
       "      <th>0</th>\n",
       "      <td>Central Oakland</td>\n",
       "      <td>420030405001</td>\n",
       "    </tr>\n",
       "    <tr>\n",
       "      <th>1</th>\n",
       "      <td>North Oakland</td>\n",
       "      <td>420030404001</td>\n",
       "    </tr>\n",
       "    <tr>\n",
       "      <th>2</th>\n",
       "      <td>West Oakland</td>\n",
       "      <td>420030402002</td>\n",
       "    </tr>\n",
       "    <tr>\n",
       "      <th>3</th>\n",
       "      <td>Crawford-Roberts</td>\n",
       "      <td>420030305002</td>\n",
       "    </tr>\n",
       "    <tr>\n",
       "      <th>4</th>\n",
       "      <td>Crawford-Roberts</td>\n",
       "      <td>420030305001</td>\n",
       "    </tr>\n",
       "  </tbody>\n",
       "</table>\n",
       "</div>"
      ],
      "text/plain": [
       "               hood       geoid10\n",
       "0   Central Oakland  420030405001\n",
       "1     North Oakland  420030404001\n",
       "2      West Oakland  420030402002\n",
       "3  Crawford-Roberts  420030305002\n",
       "4  Crawford-Roberts  420030305001"
      ]
     },
     "execution_count": 19,
     "metadata": {},
     "output_type": "execute_result"
    }
   ],
   "source": [
    "import pandas as pd\n",
    "import geopandas\n",
    "\n",
    "''' The sidewalk ratio dataset does not have neighborhood names instead containing \n",
    "geoid10 as the location information, so I'm using the 2010 Pittsburgh census data \n",
    "set which has both geoid10 and neighborhood information to map between the two. \n",
    "''' \n",
    "census = pd.read_csv(\"2010_Census_Block_Groups.csv\").filter(['hood','geoid10'])\n",
    "census.head()"
   ]
  },
  {
   "cell_type": "code",
   "execution_count": 20,
   "metadata": {},
   "outputs": [
    {
     "name": "stdout",
     "output_type": "stream",
     "text": [
      "Central Oakland\n"
     ]
    }
   ],
   "source": [
    "# Create a dictionary which maps each geoid10 to the neighborhood it is in\n",
    "geo_to_hood = {}\n",
    "for index, row in census.iterrows():\n",
    "    if row['geoid10'] not in geo_to_hood:\n",
    "          geo_to_hood[row['geoid10']] = row['hood']\n",
    "\n",
    "# Demonstration\n",
    "print(geo_to_hood[420030405001])"
   ]
  },
  {
   "cell_type": "code",
   "execution_count": null,
   "metadata": {},
   "outputs": [],
   "source": [
    "sr = pd.read_csv(\"sidewalk_ratio.csv\")\n",
    "# print(geo_to_hood[sr['GEOID'][35]])\n",
    " \n",
    "sr_ratios = {}\n",
    "ratio_count = 0\n",
    "for (index, row) in sr.iterrows():\n",
    "    try:\n",
    "        if geo_to_hood[row['GEOID']] in sr_ratios:\n",
    "            ratio_list = sr_ratios[geo_to_hood[row['GEOID']]]\n",
    "            #ratio_list[0] += 1\n",
    "            ratio_list.append(row['Ratio'])\n",
    "            sr_ratios[geo_to_hood[row['GEOID']]] = ratio_list\n",
    "        else:\n",
    "            ratio_list = []\n",
    "            ratio_list.append(row['Ratio'])\n",
    "            sr_ratios[geo_to_hood[row['GEOID']]] = ratio_list\n",
    "    except:\n",
    "        continue"
   ]
  },
  {
   "cell_type": "code",
   "execution_count": null,
   "metadata": {},
   "outputs": [],
   "source": [
    "for item, row in sr_ratios:\n",
    "    print(row)"
   ]
  },
  {
   "cell_type": "code",
   "execution_count": null,
   "metadata": {},
   "outputs": [],
   "source": []
  }
 ],
 "metadata": {
  "kernelspec": {
   "display_name": "Python 3",
   "language": "python",
   "name": "python3"
  },
  "language_info": {
   "codemirror_mode": {
    "name": "ipython",
    "version": 3
   },
   "file_extension": ".py",
   "mimetype": "text/x-python",
   "name": "python",
   "nbconvert_exporter": "python",
   "pygments_lexer": "ipython3",
   "version": "3.8.3"
  }
 },
 "nbformat": 4,
 "nbformat_minor": 4
}
