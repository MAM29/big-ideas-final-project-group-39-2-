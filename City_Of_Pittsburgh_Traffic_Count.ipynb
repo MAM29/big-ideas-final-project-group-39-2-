{
 "cells": [
  {
   "cell_type": "markdown",
   "metadata": {},
   "source": [
    "# Michael Mascilli"
   ]
  },
  {
   "cell_type": "code",
   "execution_count": 2,
   "metadata": {},
   "outputs": [
    {
     "data": {
      "text/html": [
       "<div>\n",
       "<style scoped>\n",
       "    .dataframe tbody tr th:only-of-type {\n",
       "        vertical-align: middle;\n",
       "    }\n",
       "\n",
       "    .dataframe tbody tr th {\n",
       "        vertical-align: top;\n",
       "    }\n",
       "\n",
       "    .dataframe thead th {\n",
       "        text-align: right;\n",
       "    }\n",
       "</style>\n",
       "<table border=\"1\" class=\"dataframe\">\n",
       "  <thead>\n",
       "    <tr style=\"text-align: right;\">\n",
       "      <th></th>\n",
       "      <th>id</th>\n",
       "      <th>device_id</th>\n",
       "      <th>record_oid</th>\n",
       "      <th>count_start_date</th>\n",
       "      <th>count_end_date</th>\n",
       "      <th>average_daily_car_traffic</th>\n",
       "      <th>average_daily_bike_traffic</th>\n",
       "      <th>counter_number</th>\n",
       "      <th>counter_type</th>\n",
       "      <th>speed_limit</th>\n",
       "      <th>...</th>\n",
       "      <th>longitude</th>\n",
       "      <th>latitude</th>\n",
       "      <th>neighborhood</th>\n",
       "      <th>council_district</th>\n",
       "      <th>ward</th>\n",
       "      <th>tract</th>\n",
       "      <th>public_works_division</th>\n",
       "      <th>pli_division</th>\n",
       "      <th>police_zone</th>\n",
       "      <th>fire_zone</th>\n",
       "    </tr>\n",
       "  </thead>\n",
       "  <tbody>\n",
       "    <tr>\n",
       "      <th>0</th>\n",
       "      <td>1011743669</td>\n",
       "      <td>85</td>\n",
       "      <td>1.445865e+09</td>\n",
       "      <td>2019-04-18</td>\n",
       "      <td>2019-04-26</td>\n",
       "      <td>4949.0</td>\n",
       "      <td>NaN</td>\n",
       "      <td>6</td>\n",
       "      <td>StatTrak</td>\n",
       "      <td>25.0</td>\n",
       "      <td>...</td>\n",
       "      <td>-79.967772</td>\n",
       "      <td>40.455733</td>\n",
       "      <td>Polish Hill</td>\n",
       "      <td>7.0</td>\n",
       "      <td>6.0</td>\n",
       "      <td>42003060500</td>\n",
       "      <td>6.0</td>\n",
       "      <td>6.0</td>\n",
       "      <td>2.0</td>\n",
       "      <td>2-6</td>\n",
       "    </tr>\n",
       "    <tr>\n",
       "      <th>1</th>\n",
       "      <td>1026101993</td>\n",
       "      <td>140</td>\n",
       "      <td>1.121444e+09</td>\n",
       "      <td>2019-01-24</td>\n",
       "      <td>NaN</td>\n",
       "      <td>NaN</td>\n",
       "      <td>NaN</td>\n",
       "      <td>NaN</td>\n",
       "      <td>Intersection Study</td>\n",
       "      <td>NaN</td>\n",
       "      <td>...</td>\n",
       "      <td>-79.952249</td>\n",
       "      <td>40.466157</td>\n",
       "      <td>Central Lawrenceville</td>\n",
       "      <td>7.0</td>\n",
       "      <td>9.0</td>\n",
       "      <td>42003090200</td>\n",
       "      <td>2.0</td>\n",
       "      <td>9.0</td>\n",
       "      <td>2.0</td>\n",
       "      <td>3-6</td>\n",
       "    </tr>\n",
       "    <tr>\n",
       "      <th>2</th>\n",
       "      <td>1032382575</td>\n",
       "      <td>11</td>\n",
       "      <td>1.539893e+09</td>\n",
       "      <td>2018-08-28</td>\n",
       "      <td>2018-09-04</td>\n",
       "      <td>NaN</td>\n",
       "      <td>NaN</td>\n",
       "      <td>NaN</td>\n",
       "      <td>NaN</td>\n",
       "      <td>35.0</td>\n",
       "      <td>...</td>\n",
       "      <td>-80.076469</td>\n",
       "      <td>40.460717</td>\n",
       "      <td>Windgap</td>\n",
       "      <td>2.0</td>\n",
       "      <td>28.0</td>\n",
       "      <td>42003563000</td>\n",
       "      <td>5.0</td>\n",
       "      <td>28.0</td>\n",
       "      <td>6.0</td>\n",
       "      <td>1-16</td>\n",
       "    </tr>\n",
       "    <tr>\n",
       "      <th>3</th>\n",
       "      <td>103627606</td>\n",
       "      <td>9</td>\n",
       "      <td>7.341951e+08</td>\n",
       "      <td>2018-07-17</td>\n",
       "      <td>2018-08-01</td>\n",
       "      <td>2741.0</td>\n",
       "      <td>NaN</td>\n",
       "      <td>NaN</td>\n",
       "      <td>StatTrak</td>\n",
       "      <td>25.0</td>\n",
       "      <td>...</td>\n",
       "      <td>-79.914335</td>\n",
       "      <td>40.437379</td>\n",
       "      <td>Squirrel Hill South</td>\n",
       "      <td>5.0</td>\n",
       "      <td>14.0</td>\n",
       "      <td>42003140800</td>\n",
       "      <td>3.0</td>\n",
       "      <td>14.0</td>\n",
       "      <td>4.0</td>\n",
       "      <td>2-18</td>\n",
       "    </tr>\n",
       "    <tr>\n",
       "      <th>4</th>\n",
       "      <td>1039546167</td>\n",
       "      <td>144</td>\n",
       "      <td>NaN</td>\n",
       "      <td>NaN</td>\n",
       "      <td>NaN</td>\n",
       "      <td>NaN</td>\n",
       "      <td>NaN</td>\n",
       "      <td>NaN</td>\n",
       "      <td>NaN</td>\n",
       "      <td>NaN</td>\n",
       "      <td>...</td>\n",
       "      <td>-80.019211</td>\n",
       "      <td>40.490794</td>\n",
       "      <td>Perry North</td>\n",
       "      <td>1.0</td>\n",
       "      <td>26.0</td>\n",
       "      <td>42003260200</td>\n",
       "      <td>1.0</td>\n",
       "      <td>26.0</td>\n",
       "      <td>1.0</td>\n",
       "      <td>1-15</td>\n",
       "    </tr>\n",
       "  </tbody>\n",
       "</table>\n",
       "<p>5 rows × 25 columns</p>\n",
       "</div>"
      ],
      "text/plain": [
       "           id  device_id    record_oid count_start_date count_end_date  \\\n",
       "0  1011743669         85  1.445865e+09       2019-04-18     2019-04-26   \n",
       "1  1026101993        140  1.121444e+09       2019-01-24            NaN   \n",
       "2  1032382575         11  1.539893e+09       2018-08-28     2018-09-04   \n",
       "3   103627606          9  7.341951e+08       2018-07-17     2018-08-01   \n",
       "4  1039546167        144           NaN              NaN            NaN   \n",
       "\n",
       "   average_daily_car_traffic  average_daily_bike_traffic counter_number  \\\n",
       "0                     4949.0                         NaN              6   \n",
       "1                        NaN                         NaN            NaN   \n",
       "2                        NaN                         NaN            NaN   \n",
       "3                     2741.0                         NaN            NaN   \n",
       "4                        NaN                         NaN            NaN   \n",
       "\n",
       "         counter_type  speed_limit  ...  longitude   latitude  \\\n",
       "0            StatTrak         25.0  ... -79.967772  40.455733   \n",
       "1  Intersection Study          NaN  ... -79.952249  40.466157   \n",
       "2                 NaN         35.0  ... -80.076469  40.460717   \n",
       "3            StatTrak         25.0  ... -79.914335  40.437379   \n",
       "4                 NaN          NaN  ... -80.019211  40.490794   \n",
       "\n",
       "            neighborhood  council_district  ward        tract  \\\n",
       "0            Polish Hill               7.0   6.0  42003060500   \n",
       "1  Central Lawrenceville               7.0   9.0  42003090200   \n",
       "2                Windgap               2.0  28.0  42003563000   \n",
       "3    Squirrel Hill South               5.0  14.0  42003140800   \n",
       "4            Perry North               1.0  26.0  42003260200   \n",
       "\n",
       "   public_works_division pli_division  police_zone  fire_zone  \n",
       "0                    6.0          6.0          2.0        2-6  \n",
       "1                    2.0          9.0          2.0        3-6  \n",
       "2                    5.0         28.0          6.0       1-16  \n",
       "3                    3.0         14.0          4.0       2-18  \n",
       "4                    1.0         26.0          1.0       1-15  \n",
       "\n",
       "[5 rows x 25 columns]"
      ]
     },
     "execution_count": 2,
     "metadata": {},
     "output_type": "execute_result"
    }
   ],
   "source": [
    "import pandas as pd\n",
    "\n",
    "chip = pd.read_csv(\"City-Of-Pittsburgh-Traffic-Count.csv\")\n",
    "chip.head()"
   ]
  },
  {
   "cell_type": "code",
   "execution_count": 3,
   "metadata": {},
   "outputs": [
    {
     "data": {
      "text/plain": [
       "Squirrel Hill South    28\n",
       "Bloomfield             21\n",
       "Shadyside              18\n",
       "Highland Park          16\n",
       "Mount Washington       16\n",
       "                       ..\n",
       "Duquesne Heights        1\n",
       "Middle Hill             1\n",
       "Lincoln Place           1\n",
       "Fineview                1\n",
       "East Allegheny          1\n",
       "Name: neighborhood, Length: 74, dtype: int64"
      ]
     },
     "execution_count": 3,
     "metadata": {},
     "output_type": "execute_result"
    }
   ],
   "source": [
    "# This will display each unique item and how many of them there are\n",
    "chip['neighborhood'].value_counts()"
   ]
  },
  {
   "cell_type": "code",
   "execution_count": 4,
   "metadata": {},
   "outputs": [
    {
     "data": {
      "text/html": [
       "<div>\n",
       "<style scoped>\n",
       "    .dataframe tbody tr th:only-of-type {\n",
       "        vertical-align: middle;\n",
       "    }\n",
       "\n",
       "    .dataframe tbody tr th {\n",
       "        vertical-align: top;\n",
       "    }\n",
       "\n",
       "    .dataframe thead th {\n",
       "        text-align: right;\n",
       "    }\n",
       "</style>\n",
       "<table border=\"1\" class=\"dataframe\">\n",
       "  <thead>\n",
       "    <tr style=\"text-align: right;\">\n",
       "      <th></th>\n",
       "      <th>Polish Hill</th>\n",
       "      <th>Central Lawrenceville</th>\n",
       "      <th>Windgap</th>\n",
       "      <th>Squirrel Hill South</th>\n",
       "      <th>Perry North</th>\n",
       "      <th>Central Northside</th>\n",
       "      <th>Squirrel Hill North</th>\n",
       "      <th>Central Oakland</th>\n",
       "      <th>East Liberty</th>\n",
       "      <th>Greenfield</th>\n",
       "      <th>...</th>\n",
       "      <th>New Homestead</th>\n",
       "      <th>Lincoln Place</th>\n",
       "      <th>NaN</th>\n",
       "      <th>Oakwood</th>\n",
       "      <th>Banksville</th>\n",
       "      <th>Chartiers City</th>\n",
       "      <th>Summer Hill</th>\n",
       "      <th>Troy Hill</th>\n",
       "      <th>Middle Hill</th>\n",
       "      <th>Crawford-Roberts</th>\n",
       "    </tr>\n",
       "  </thead>\n",
       "  <tbody>\n",
       "    <tr>\n",
       "      <th>frequency</th>\n",
       "      <td>4949.0</td>\n",
       "      <td>NaN</td>\n",
       "      <td>NaN</td>\n",
       "      <td>2741.0</td>\n",
       "      <td>NaN</td>\n",
       "      <td>1046.0</td>\n",
       "      <td>NaN</td>\n",
       "      <td>NaN</td>\n",
       "      <td>NaN</td>\n",
       "      <td>NaN</td>\n",
       "      <td>...</td>\n",
       "      <td>666.0</td>\n",
       "      <td>126.0</td>\n",
       "      <td>NaN</td>\n",
       "      <td>NaN</td>\n",
       "      <td>NaN</td>\n",
       "      <td>2571.0</td>\n",
       "      <td>937.0</td>\n",
       "      <td>NaN</td>\n",
       "      <td>NaN</td>\n",
       "      <td>NaN</td>\n",
       "    </tr>\n",
       "  </tbody>\n",
       "</table>\n",
       "<p>1 rows × 75 columns</p>\n",
       "</div>"
      ],
      "text/plain": [
       "           Polish Hill  Central Lawrenceville  Windgap  Squirrel Hill South  \\\n",
       "frequency       4949.0                    NaN      NaN               2741.0   \n",
       "\n",
       "           Perry North  Central Northside  Squirrel Hill North  \\\n",
       "frequency          NaN             1046.0                  NaN   \n",
       "\n",
       "           Central Oakland  East Liberty  Greenfield  ...  New Homestead  \\\n",
       "frequency              NaN           NaN         NaN  ...          666.0   \n",
       "\n",
       "           Lincoln Place  NaN  Oakwood  Banksville  Chartiers City  \\\n",
       "frequency          126.0  NaN      NaN         NaN          2571.0   \n",
       "\n",
       "           Summer Hill  Troy Hill  Middle Hill  Crawford-Roberts  \n",
       "frequency        937.0        NaN          NaN               NaN  \n",
       "\n",
       "[1 rows x 75 columns]"
      ]
     },
     "execution_count": 4,
     "metadata": {},
     "output_type": "execute_result"
    }
   ],
   "source": [
    "traffic = {}\n",
    "\n",
    "# Create a dictionary based off the item name and the quantity of that item\n",
    "for index, row in chip.iterrows():\n",
    "    # We must include the second condition since the first time we add a neighborhood, it might be NaN, which we cannot use\n",
    "    if row[\"neighborhood\"] not in traffic and row[\"average_daily_car_traffic\"] != \"NaN\":\n",
    "        traffic[row[\"neighborhood\"]] = row[\"average_daily_car_traffic\"]\n",
    "        \n",
    "# specify the column names separately\n",
    "column_names = [\"frequency\"]\n",
    "items = pd.DataFrame(traffic, column_names)\n",
    "items"
   ]
  },
  {
   "cell_type": "code",
   "execution_count": 5,
   "metadata": {},
   "outputs": [
    {
     "name": "stdout",
     "output_type": "stream",
     "text": [
      "{'Polish Hill': 4949.0, 'Central Lawrenceville': nan, 'Windgap': nan, 'Squirrel Hill South': 2741.0, 'Perry North': nan, 'Central Northside': 1046.0, 'Squirrel Hill North': nan, 'Central Oakland': nan, 'East Liberty': nan, 'Greenfield': nan, 'Bluff': nan, 'Crafton Heights': 11500.0, 'Shadyside': 6793.0, 'Upper Lawrenceville': nan, 'Highland Park': 7688.0, 'North Shore': 10350.0, 'Mount Washington': 3860.0, 'Brookline': 9709.0, 'South Shore': nan, 'South Side Flats': nan, 'Bloomfield': 1120.0, 'Larimer': 8512.0, 'Friendship': 4448.0, 'South Oakland': nan, 'Point Breeze': 12335.0, 'Westwood': nan, 'Regent Square': 16729.0, 'Knoxville': 527.0, 'Strip District': 6443.0, 'West Oakland': nan, 'Beechview': 2046.0, 'South Side Slopes': nan, 'Upper Hill': 1530.0, 'North Oakland': nan, 'Stanton Heights': 4016.0, 'Manchester': 9405.0, 'Morningside': nan, 'Hazelwood': nan, 'Lower Lawrenceville': nan, 'Overbrook': nan, 'East Hills': 13788.0, 'Duquesne Heights': 5831.0, 'Lincoln-Lemington-Belmar': nan, 'Sheraden': 3304.0, 'Elliott': nan, 'Central Business District': 2305.0, 'St. Clair': 2436.0, 'Perry South': 6943.0, 'Carrick': 1468.0, 'Allegheny Center': 2386.0, 'East Allegheny': 1924.0, 'Chateau': nan, 'Swisshelm Park': nan, 'Allegheny West': 477.0, 'Marshall-Shadeland': 1043.0, 'Arlington': 2224.0, 'Homewood North': 5357.0, 'Homewood South': 6446.0, 'Point Breeze North': 2651.0, 'California-Kirkbride': nan, 'Beltzhoover': 1577.0, 'Brighton Heights': 2679.0, 'Spring Garden': 1226.0, 'Spring Hill-City View': 63.0, 'Fineview': 419.0, 'New Homestead': 666.0, 'Lincoln Place': 126.0, nan: nan, 'Oakwood': nan, 'Banksville': nan, 'Chartiers City': 2571.0, 'Summer Hill': 937.0, 'Troy Hill': nan, 'Middle Hill': nan, 'Crawford-Roberts': nan}\n"
     ]
    }
   ],
   "source": [
    "traffic = {}\n",
    "\n",
    "# Create a dictionary based off the item name and the quantity of that item\n",
    "for index, row in chip.iterrows():\n",
    "    # We must include the second condition since the first time we add a neighborhood, it might be NaN, which we cannot use\n",
    "    if row[\"neighborhood\"] not in traffic and row[\"average_daily_car_traffic\"] != \"\":\n",
    "        traffic[row[\"neighborhood\"]] = row[\"average_daily_car_traffic\"]\n",
    "        \n",
    "print(traffic)"
   ]
  },
  {
   "cell_type": "code",
   "execution_count": 6,
   "metadata": {},
   "outputs": [
    {
     "name": "stdout",
     "output_type": "stream",
     "text": [
      "The neighorhood with the least amount of traffic is: Central Northside\n",
      "With a average daily traffic count of: 23.0\n"
     ]
    }
   ],
   "source": [
    "lowest_neighborhood = \"\"\n",
    "lowest_neighborhood_average_traffic = 10000000 # starter number\n",
    "# Check each number of average traffic to see if it is less than the current lowest value\n",
    "for index, row in chip.iterrows():\n",
    "    # We must include the second condition since the first time we add a neighborhood, it might be NaN, which we cannot use\n",
    "    if row[\"average_daily_car_traffic\"] < lowest_neighborhood_average_traffic:\n",
    "        lowest_neighborhood_average_traffic = row[\"average_daily_car_traffic\"]\n",
    "        lowest_neighborhood = row[\"neighborhood\"]\n",
    "        \n",
    "print(\"The neighorhood with the least amount of traffic is: \" + lowest_neighborhood)\n",
    "print(\"With a average daily traffic count of: \" + str(lowest_neighborhood_average_traffic))"
   ]
  },
  {
   "cell_type": "markdown",
   "metadata": {},
   "source": [
    "## With this information, I wanted to see if Central Northside did indeed have the least amount of daily traffic. I looked at the spreadsheet and it turned out this was only one of the datapoints. Another Central Northside datapoint had 3190 as the average_daily_car_traffic. Now knowing that this code is faulty, I decided that I would need to calculate an average for all of neighborhoods that have multiple datapoints."
   ]
  },
  {
   "cell_type": "code",
   "execution_count": 26,
   "metadata": {},
   "outputs": [
    {
     "name": "stdout",
     "output_type": "stream",
     "text": [
      "[2649.0, nan, nan, nan, nan, nan, nan, nan, nan, nan, nan, 11500.0, nan, nan, nan, nan, nan, nan, nan, nan, nan, nan, 2443.5, nan, nan, nan, 16729.0, 3823.0, nan, nan, nan, nan, nan, nan, 4068.0, 2129.3, nan, nan, nan, nan, nan, 5831.0, nan, nan, nan, nan, nan, nan, nan, 2386.0, 1924.0, nan, nan, 477.0, 2217.1428571428573, nan, nan, nan, 4964.0, nan, nan, nan, 1226.0, nan, 419.0, 666.0, 126.0, 126.0, nan, nan, 2571.0, nan, nan, nan, nan]\n"
     ]
    }
   ],
   "source": [
    "import statistics as st\n",
    "traffic_count = []\n",
    "temp_array = []\n",
    "neighborhoods = []\n",
    "# take each traffic count data point for all neighborhoods, calculate an average, and then create a dataframe from it\n",
    "\n",
    "# Start by creating an list of all the neighborhoods\n",
    "for index, row in chip.iterrows():\n",
    "    if row[\"neighborhood\"] not in neighborhoods:\n",
    "        neighborhoods.append(row[\"neighborhood\"])\n",
    "# Now for each neighborhood, add each datapoint it has to a list, calculate the average, then append that list to traffic_count\n",
    "for neighborhood in neighborhoods:\n",
    "    for index, row in chip.iterrows():\n",
    "        if row[\"neighborhood\"] == neighborhood and row[\"average_daily_car_traffic\"] != \"nan\":\n",
    "                temp_array.append(row[\"average_daily_car_traffic\"])\n",
    "    \n",
    "    # After we add the datapoints for the neighborhood, we calculate the average and then add it to traffic count\n",
    "    if len(temp_array) > 0:\n",
    "        traffic_average = st.mean(temp_array)\n",
    "    traffic_count.append(traffic_average)\n",
    "    # Now we clear temp_array for use in the next iteration of the loop\n",
    "    temp_array.clear()\n",
    "\n",
    "# Print the final product\n",
    "print(str(traffic_count))"
   ]
  },
  {
   "cell_type": "markdown",
   "metadata": {},
   "source": [
    "## I wanted to make sure that this data was correct, so I manually caclulated the average for the first neighborhood, which is Polish hill. I got the number that is first in the array for the previous code cell, so I know my work is correct."
   ]
  },
  {
   "cell_type": "code",
   "execution_count": 13,
   "metadata": {},
   "outputs": [
    {
     "name": "stdout",
     "output_type": "stream",
     "text": [
      "[2649.0]\n"
     ]
    }
   ],
   "source": [
    "import statistics as st\n",
    "traffic_count = []\n",
    "temp_array = []\n",
    "neighborhoods = []\n",
    "# take each traffic count data point for all neighborhoods, calculate an average, and then create a dataframe from it\n",
    "\n",
    "for index, row in chip.iterrows():\n",
    "    if row[\"neighborhood\"] == \"Polish Hill\":\n",
    "        temp_array.append(row[\"average_daily_car_traffic\"])\n",
    "    \n",
    "# After we add the datapoints for the neighborhood, we calculate the average and then add it to traffic count\n",
    "if len(temp_array) > 0:\n",
    "    traffic_average = st.mean(temp_array)\n",
    "    traffic_count.append(traffic_average)\n",
    "temp_array.clear()\n",
    "print(str(traffic_count))"
   ]
  },
  {
   "cell_type": "markdown",
   "metadata": {},
   "source": [
    "## My new problem is that I cannot get rid of nan, so I must create a query for the average_daily_car_traffic and create a new dataframe from those datapoints to only include the datapoints that have numbers.\n",
    "## I then create a dictionary from the lists of neighborhoods and average daily car traffic to then display"
   ]
  },
  {
   "cell_type": "code",
   "execution_count": 9,
   "metadata": {},
   "outputs": [
    {
     "name": "stdout",
     "output_type": "stream",
     "text": [
      "{'Polish Hill': 2649.0, 'Squirrel Hill South': 3050.076923076923, 'Central Northside': 1189.0, 'Bluff': 1788.3333333333333, 'Crafton Heights': 11500.0, 'Shadyside': 4408.8, 'Highland Park': 1564.7333333333333, 'North Shore': 10350.0, 'East Liberty': 4658.818181818182, 'Mount Washington': 5259.555555555556, 'Brookline': 3914.4, 'Squirrel Hill North': 3939.1111111111113, 'Bloomfield': 3078.6428571428573, 'Larimer': 3771.3, 'Friendship': 2443.5, 'Point Breeze': 3905.25, 'Regent Square': 16729.0, 'Central Lawrenceville': 2249.8333333333335, 'Knoxville': 3823.0, 'Central Oakland': 3768.6666666666665, 'Strip District': 9691.666666666666, 'Greenfield': 2386.0, 'Windgap': 1531.0, 'Beechview': 1418.3333333333333, 'Upper Hill': 953.3333333333334, 'Stanton Heights': 4068.0, 'Manchester': 2129.3, 'South Side Slopes': 3778.1428571428573, 'Perry North': 2123.777777777778, 'North Oakland': 5955.25, 'East Hills': 8126.5, 'Duquesne Heights': 5831.0, 'Sheraden': 2844.0, 'Morningside': 2049.285714285714, 'Central Business District': 2305.0, 'St. Clair': 2436.0, 'Perry South': 3018.75, 'Elliott': 1342.6666666666667, 'Carrick': 1969.5714285714287, 'Westwood': 7700.0, 'Allegheny Center': 2386.0, 'East Allegheny': 1924.0, 'Overbrook': 777.0, 'Allegheny West': 477.0, 'Marshall-Shadeland': 2217.1428571428573, 'Lower Lawrenceville': 1736.0, 'Arlington': 2285.5, 'Homewood North': 3513.5, 'Homewood South': 4274.2, 'Point Breeze North': 4964.0, 'Beltzhoover': 1577.0, 'Brighton Heights': 2515.6666666666665, 'California-Kirkbride': 4975.333333333333, 'Spring Garden': 1226.0, 'Hazelwood': 1289.5, 'Spring Hill-City View': 1293.0, 'Fineview': 419.0, 'South Side Flats': 115.0, 'Lincoln-Lemington-Belmar': 195.0, 'New Homestead': 666.0, 'Lincoln Place': 126.0, 'Chartiers City': 2571.0, nan: 2571.0, 'Summer Hill': 937.0, 'West Oakland': 2585.0}\n",
      "65\n"
     ]
    }
   ],
   "source": [
    "import statistics as st\n",
    "# We cut out the rows in which the average_daily_car_traffic is nan\n",
    "chip.dropna(subset=[\"average_daily_car_traffic\"],inplace=True)\n",
    "traffic_count = []\n",
    "temp_array = []\n",
    "neighborhoods = []\n",
    "traffic_dictionary = {}\n",
    "# take each traffic count data point for all neighborhoods, calculate an average, and then create a dataframe from it\n",
    "\n",
    "# Start by creating an list of all the neighborhoods\n",
    "for index, row in chip.iterrows():\n",
    "    if row[\"neighborhood\"] not in neighborhoods:\n",
    "        neighborhoods.append(row[\"neighborhood\"])\n",
    "# Now for each neighborhood, add each datapoint it has to a list, calculate the average, then append that list to traffic_count\n",
    "for neighborhood in neighborhoods:\n",
    "    for index, row in chip.iterrows():\n",
    "        if row[\"neighborhood\"] == neighborhood and row[\"average_daily_car_traffic\"] != \"nan\":\n",
    "                temp_array.append(row[\"average_daily_car_traffic\"])\n",
    "    \n",
    "    # After we add the datapoints for the neighborhood, we calculate the average and then add it to traffic count\n",
    "    if len(temp_array) > 0:\n",
    "        traffic_average = st.mean(temp_array)\n",
    "    traffic_count.append(traffic_average)\n",
    "    # Now we clear temp_array for use in the next iteration of the loop\n",
    "    temp_array.clear()\n",
    "\n",
    "# Print the final product\n",
    "traffic_dictionary = {neighborhoods[i]: traffic_count[i] for i in range(len(neighborhoods))}\n",
    "print(traffic_dictionary)\n",
    "print(len(traffic_dictionary))"
   ]
  },
  {
   "cell_type": "markdown",
   "metadata": {},
   "source": [
    "# Conclusion"
   ]
  },
  {
   "cell_type": "markdown",
   "metadata": {},
   "source": [
    "## Considering the fact that higher traffic and higher speeds increase the likelyhood of accident and severity of injury, the columns of this data set we are taking into consideration are average_daily_car_traffic and percent_over_limit."
   ]
  },
  {
   "cell_type": "markdown",
   "metadata": {},
   "source": [
    "## 1. Create a dictionary of neighborhoods and percent_over_limit \n",
    "## 2. Check which neighborhoods have the least amount of traffic\n",
    "## 3. Check which neighborhoods have the least percent_over_limit"
   ]
  },
  {
   "cell_type": "code",
   "execution_count": null,
   "metadata": {},
   "outputs": [],
   "source": []
  }
 ],
 "metadata": {
  "kernelspec": {
   "display_name": "Python 3",
   "language": "python",
   "name": "python3"
  },
  "language_info": {
   "codemirror_mode": {
    "name": "ipython",
    "version": 3
   },
   "file_extension": ".py",
   "mimetype": "text/x-python",
   "name": "python",
   "nbconvert_exporter": "python",
   "pygments_lexer": "ipython3",
   "version": "3.8.3"
  }
 },
 "nbformat": 4,
 "nbformat_minor": 4
}
