{
 "cells": [
  {
   "cell_type": "markdown",
   "metadata": {},
   "source": [
    "# Michael Mascilli"
   ]
  },
  {
   "cell_type": "markdown",
   "metadata": {},
   "source": [
    "# Introduction\n",
    "## This dataset consists of information regarding traffic in various neighborhoods in Pittsburgh. Of the datapoints in each column, I decided that average_daily_car_traffic and percent_over_limit would be the most relevent, so those are the factors that I am keeping track of. "
   ]
  },
  {
   "cell_type": "code",
   "execution_count": 6,
   "metadata": {},
   "outputs": [
    {
     "data": {
      "text/html": [
       "<div>\n",
       "<style scoped>\n",
       "    .dataframe tbody tr th:only-of-type {\n",
       "        vertical-align: middle;\n",
       "    }\n",
       "\n",
       "    .dataframe tbody tr th {\n",
       "        vertical-align: top;\n",
       "    }\n",
       "\n",
       "    .dataframe thead th {\n",
       "        text-align: right;\n",
       "    }\n",
       "</style>\n",
       "<table border=\"1\" class=\"dataframe\">\n",
       "  <thead>\n",
       "    <tr style=\"text-align: right;\">\n",
       "      <th></th>\n",
       "      <th>id</th>\n",
       "      <th>device_id</th>\n",
       "      <th>record_oid</th>\n",
       "      <th>count_start_date</th>\n",
       "      <th>count_end_date</th>\n",
       "      <th>average_daily_car_traffic</th>\n",
       "      <th>average_daily_bike_traffic</th>\n",
       "      <th>counter_number</th>\n",
       "      <th>counter_type</th>\n",
       "      <th>speed_limit</th>\n",
       "      <th>...</th>\n",
       "      <th>longitude</th>\n",
       "      <th>latitude</th>\n",
       "      <th>neighborhood</th>\n",
       "      <th>council_district</th>\n",
       "      <th>ward</th>\n",
       "      <th>tract</th>\n",
       "      <th>public_works_division</th>\n",
       "      <th>pli_division</th>\n",
       "      <th>police_zone</th>\n",
       "      <th>fire_zone</th>\n",
       "    </tr>\n",
       "  </thead>\n",
       "  <tbody>\n",
       "    <tr>\n",
       "      <th>0</th>\n",
       "      <td>1011743669</td>\n",
       "      <td>85</td>\n",
       "      <td>1.445865e+09</td>\n",
       "      <td>2019-04-18</td>\n",
       "      <td>2019-04-26</td>\n",
       "      <td>4949.0</td>\n",
       "      <td>NaN</td>\n",
       "      <td>6</td>\n",
       "      <td>StatTrak</td>\n",
       "      <td>25.0</td>\n",
       "      <td>...</td>\n",
       "      <td>-79.967772</td>\n",
       "      <td>40.455733</td>\n",
       "      <td>Polish Hill</td>\n",
       "      <td>7.0</td>\n",
       "      <td>6.0</td>\n",
       "      <td>42003060500</td>\n",
       "      <td>6.0</td>\n",
       "      <td>6.0</td>\n",
       "      <td>2.0</td>\n",
       "      <td>2-6</td>\n",
       "    </tr>\n",
       "    <tr>\n",
       "      <th>1</th>\n",
       "      <td>1026101993</td>\n",
       "      <td>140</td>\n",
       "      <td>1.121444e+09</td>\n",
       "      <td>2019-01-24</td>\n",
       "      <td>NaN</td>\n",
       "      <td>NaN</td>\n",
       "      <td>NaN</td>\n",
       "      <td>NaN</td>\n",
       "      <td>Intersection Study</td>\n",
       "      <td>NaN</td>\n",
       "      <td>...</td>\n",
       "      <td>-79.952249</td>\n",
       "      <td>40.466157</td>\n",
       "      <td>Central Lawrenceville</td>\n",
       "      <td>7.0</td>\n",
       "      <td>9.0</td>\n",
       "      <td>42003090200</td>\n",
       "      <td>2.0</td>\n",
       "      <td>9.0</td>\n",
       "      <td>2.0</td>\n",
       "      <td>3-6</td>\n",
       "    </tr>\n",
       "    <tr>\n",
       "      <th>2</th>\n",
       "      <td>1032382575</td>\n",
       "      <td>11</td>\n",
       "      <td>1.539893e+09</td>\n",
       "      <td>2018-08-28</td>\n",
       "      <td>2018-09-04</td>\n",
       "      <td>NaN</td>\n",
       "      <td>NaN</td>\n",
       "      <td>NaN</td>\n",
       "      <td>NaN</td>\n",
       "      <td>35.0</td>\n",
       "      <td>...</td>\n",
       "      <td>-80.076469</td>\n",
       "      <td>40.460717</td>\n",
       "      <td>Windgap</td>\n",
       "      <td>2.0</td>\n",
       "      <td>28.0</td>\n",
       "      <td>42003563000</td>\n",
       "      <td>5.0</td>\n",
       "      <td>28.0</td>\n",
       "      <td>6.0</td>\n",
       "      <td>1-16</td>\n",
       "    </tr>\n",
       "    <tr>\n",
       "      <th>3</th>\n",
       "      <td>103627606</td>\n",
       "      <td>9</td>\n",
       "      <td>7.341951e+08</td>\n",
       "      <td>2018-07-17</td>\n",
       "      <td>2018-08-01</td>\n",
       "      <td>2741.0</td>\n",
       "      <td>NaN</td>\n",
       "      <td>NaN</td>\n",
       "      <td>StatTrak</td>\n",
       "      <td>25.0</td>\n",
       "      <td>...</td>\n",
       "      <td>-79.914335</td>\n",
       "      <td>40.437379</td>\n",
       "      <td>Squirrel Hill South</td>\n",
       "      <td>5.0</td>\n",
       "      <td>14.0</td>\n",
       "      <td>42003140800</td>\n",
       "      <td>3.0</td>\n",
       "      <td>14.0</td>\n",
       "      <td>4.0</td>\n",
       "      <td>2-18</td>\n",
       "    </tr>\n",
       "    <tr>\n",
       "      <th>4</th>\n",
       "      <td>1039546167</td>\n",
       "      <td>144</td>\n",
       "      <td>NaN</td>\n",
       "      <td>NaN</td>\n",
       "      <td>NaN</td>\n",
       "      <td>NaN</td>\n",
       "      <td>NaN</td>\n",
       "      <td>NaN</td>\n",
       "      <td>NaN</td>\n",
       "      <td>NaN</td>\n",
       "      <td>...</td>\n",
       "      <td>-80.019211</td>\n",
       "      <td>40.490794</td>\n",
       "      <td>Perry North</td>\n",
       "      <td>1.0</td>\n",
       "      <td>26.0</td>\n",
       "      <td>42003260200</td>\n",
       "      <td>1.0</td>\n",
       "      <td>26.0</td>\n",
       "      <td>1.0</td>\n",
       "      <td>1-15</td>\n",
       "    </tr>\n",
       "  </tbody>\n",
       "</table>\n",
       "<p>5 rows × 25 columns</p>\n",
       "</div>"
      ],
      "text/plain": [
       "           id  device_id    record_oid count_start_date count_end_date  \\\n",
       "0  1011743669         85  1.445865e+09       2019-04-18     2019-04-26   \n",
       "1  1026101993        140  1.121444e+09       2019-01-24            NaN   \n",
       "2  1032382575         11  1.539893e+09       2018-08-28     2018-09-04   \n",
       "3   103627606          9  7.341951e+08       2018-07-17     2018-08-01   \n",
       "4  1039546167        144           NaN              NaN            NaN   \n",
       "\n",
       "   average_daily_car_traffic  average_daily_bike_traffic counter_number  \\\n",
       "0                     4949.0                         NaN              6   \n",
       "1                        NaN                         NaN            NaN   \n",
       "2                        NaN                         NaN            NaN   \n",
       "3                     2741.0                         NaN            NaN   \n",
       "4                        NaN                         NaN            NaN   \n",
       "\n",
       "         counter_type  speed_limit  ...  longitude   latitude  \\\n",
       "0            StatTrak         25.0  ... -79.967772  40.455733   \n",
       "1  Intersection Study          NaN  ... -79.952249  40.466157   \n",
       "2                 NaN         35.0  ... -80.076469  40.460717   \n",
       "3            StatTrak         25.0  ... -79.914335  40.437379   \n",
       "4                 NaN          NaN  ... -80.019211  40.490794   \n",
       "\n",
       "            neighborhood  council_district  ward        tract  \\\n",
       "0            Polish Hill               7.0   6.0  42003060500   \n",
       "1  Central Lawrenceville               7.0   9.0  42003090200   \n",
       "2                Windgap               2.0  28.0  42003563000   \n",
       "3    Squirrel Hill South               5.0  14.0  42003140800   \n",
       "4            Perry North               1.0  26.0  42003260200   \n",
       "\n",
       "   public_works_division pli_division  police_zone  fire_zone  \n",
       "0                    6.0          6.0          2.0        2-6  \n",
       "1                    2.0          9.0          2.0        3-6  \n",
       "2                    5.0         28.0          6.0       1-16  \n",
       "3                    3.0         14.0          4.0       2-18  \n",
       "4                    1.0         26.0          1.0       1-15  \n",
       "\n",
       "[5 rows x 25 columns]"
      ]
     },
     "execution_count": 6,
     "metadata": {},
     "output_type": "execute_result"
    }
   ],
   "source": [
    "import pandas as pd\n",
    "\n",
    "import numpy as np\n",
    "%matplotlib inline\n",
    "import matplotlib.pyplot as plt\n",
    "\n",
    "chip = pd.read_csv(\"City-Of-Pittsburgh-Traffic-Count.csv\")\n",
    "chip.head()"
   ]
  },
  {
   "cell_type": "code",
   "execution_count": 3,
   "metadata": {},
   "outputs": [
    {
     "data": {
      "text/plain": [
       "Squirrel Hill South    28\n",
       "Bloomfield             21\n",
       "Shadyside              18\n",
       "Highland Park          16\n",
       "Mount Washington       16\n",
       "                       ..\n",
       "Duquesne Heights        1\n",
       "Middle Hill             1\n",
       "Lincoln Place           1\n",
       "Fineview                1\n",
       "East Allegheny          1\n",
       "Name: neighborhood, Length: 74, dtype: int64"
      ]
     },
     "execution_count": 3,
     "metadata": {},
     "output_type": "execute_result"
    }
   ],
   "source": [
    "# This will display each unique item and how many of them there are\n",
    "chip['neighborhood'].value_counts()"
   ]
  },
  {
   "cell_type": "code",
   "execution_count": 4,
   "metadata": {},
   "outputs": [
    {
     "data": {
      "text/html": [
       "<div>\n",
       "<style scoped>\n",
       "    .dataframe tbody tr th:only-of-type {\n",
       "        vertical-align: middle;\n",
       "    }\n",
       "\n",
       "    .dataframe tbody tr th {\n",
       "        vertical-align: top;\n",
       "    }\n",
       "\n",
       "    .dataframe thead th {\n",
       "        text-align: right;\n",
       "    }\n",
       "</style>\n",
       "<table border=\"1\" class=\"dataframe\">\n",
       "  <thead>\n",
       "    <tr style=\"text-align: right;\">\n",
       "      <th></th>\n",
       "      <th>Polish Hill</th>\n",
       "      <th>Central Lawrenceville</th>\n",
       "      <th>Windgap</th>\n",
       "      <th>Squirrel Hill South</th>\n",
       "      <th>Perry North</th>\n",
       "      <th>Central Northside</th>\n",
       "      <th>Squirrel Hill North</th>\n",
       "      <th>Central Oakland</th>\n",
       "      <th>East Liberty</th>\n",
       "      <th>Greenfield</th>\n",
       "      <th>...</th>\n",
       "      <th>New Homestead</th>\n",
       "      <th>Lincoln Place</th>\n",
       "      <th>NaN</th>\n",
       "      <th>Oakwood</th>\n",
       "      <th>Banksville</th>\n",
       "      <th>Chartiers City</th>\n",
       "      <th>Summer Hill</th>\n",
       "      <th>Troy Hill</th>\n",
       "      <th>Middle Hill</th>\n",
       "      <th>Crawford-Roberts</th>\n",
       "    </tr>\n",
       "  </thead>\n",
       "  <tbody>\n",
       "    <tr>\n",
       "      <th>frequency</th>\n",
       "      <td>4949.0</td>\n",
       "      <td>NaN</td>\n",
       "      <td>NaN</td>\n",
       "      <td>2741.0</td>\n",
       "      <td>NaN</td>\n",
       "      <td>1046.0</td>\n",
       "      <td>NaN</td>\n",
       "      <td>NaN</td>\n",
       "      <td>NaN</td>\n",
       "      <td>NaN</td>\n",
       "      <td>...</td>\n",
       "      <td>666.0</td>\n",
       "      <td>126.0</td>\n",
       "      <td>NaN</td>\n",
       "      <td>NaN</td>\n",
       "      <td>NaN</td>\n",
       "      <td>2571.0</td>\n",
       "      <td>937.0</td>\n",
       "      <td>NaN</td>\n",
       "      <td>NaN</td>\n",
       "      <td>NaN</td>\n",
       "    </tr>\n",
       "  </tbody>\n",
       "</table>\n",
       "<p>1 rows × 75 columns</p>\n",
       "</div>"
      ],
      "text/plain": [
       "           Polish Hill  Central Lawrenceville  Windgap  Squirrel Hill South  \\\n",
       "frequency       4949.0                    NaN      NaN               2741.0   \n",
       "\n",
       "           Perry North  Central Northside  Squirrel Hill North  \\\n",
       "frequency          NaN             1046.0                  NaN   \n",
       "\n",
       "           Central Oakland  East Liberty  Greenfield  ...  New Homestead  \\\n",
       "frequency              NaN           NaN         NaN  ...          666.0   \n",
       "\n",
       "           Lincoln Place  NaN  Oakwood  Banksville  Chartiers City  \\\n",
       "frequency          126.0  NaN      NaN         NaN          2571.0   \n",
       "\n",
       "           Summer Hill  Troy Hill  Middle Hill  Crawford-Roberts  \n",
       "frequency        937.0        NaN          NaN               NaN  \n",
       "\n",
       "[1 rows x 75 columns]"
      ]
     },
     "execution_count": 4,
     "metadata": {},
     "output_type": "execute_result"
    }
   ],
   "source": [
    "traffic = {}\n",
    "\n",
    "# Create a dictionary based off the item name and the quantity of that item\n",
    "for index, row in chip.iterrows():\n",
    "    # We must include the second condition since the first time we add a neighborhood, it might be NaN, which we cannot use\n",
    "    if row[\"neighborhood\"] not in traffic and row[\"average_daily_car_traffic\"] != \"NaN\":\n",
    "        traffic[row[\"neighborhood\"]] = row[\"average_daily_car_traffic\"]\n",
    "        \n",
    "# specify the column names separately\n",
    "column_names = [\"frequency\"]\n",
    "items = pd.DataFrame(traffic, column_names)\n",
    "items"
   ]
  },
  {
   "cell_type": "code",
   "execution_count": 5,
   "metadata": {},
   "outputs": [
    {
     "name": "stdout",
     "output_type": "stream",
     "text": [
      "{'Polish Hill': 4949.0, 'Central Lawrenceville': nan, 'Windgap': nan, 'Squirrel Hill South': 2741.0, 'Perry North': nan, 'Central Northside': 1046.0, 'Squirrel Hill North': nan, 'Central Oakland': nan, 'East Liberty': nan, 'Greenfield': nan, 'Bluff': nan, 'Crafton Heights': 11500.0, 'Shadyside': 6793.0, 'Upper Lawrenceville': nan, 'Highland Park': 7688.0, 'North Shore': 10350.0, 'Mount Washington': 3860.0, 'Brookline': 9709.0, 'South Shore': nan, 'South Side Flats': nan, 'Bloomfield': 1120.0, 'Larimer': 8512.0, 'Friendship': 4448.0, 'South Oakland': nan, 'Point Breeze': 12335.0, 'Westwood': nan, 'Regent Square': 16729.0, 'Knoxville': 527.0, 'Strip District': 6443.0, 'West Oakland': nan, 'Beechview': 2046.0, 'South Side Slopes': nan, 'Upper Hill': 1530.0, 'North Oakland': nan, 'Stanton Heights': 4016.0, 'Manchester': 9405.0, 'Morningside': nan, 'Hazelwood': nan, 'Lower Lawrenceville': nan, 'Overbrook': nan, 'East Hills': 13788.0, 'Duquesne Heights': 5831.0, 'Lincoln-Lemington-Belmar': nan, 'Sheraden': 3304.0, 'Elliott': nan, 'Central Business District': 2305.0, 'St. Clair': 2436.0, 'Perry South': 6943.0, 'Carrick': 1468.0, 'Allegheny Center': 2386.0, 'East Allegheny': 1924.0, 'Chateau': nan, 'Swisshelm Park': nan, 'Allegheny West': 477.0, 'Marshall-Shadeland': 1043.0, 'Arlington': 2224.0, 'Homewood North': 5357.0, 'Homewood South': 6446.0, 'Point Breeze North': 2651.0, 'California-Kirkbride': nan, 'Beltzhoover': 1577.0, 'Brighton Heights': 2679.0, 'Spring Garden': 1226.0, 'Spring Hill-City View': 63.0, 'Fineview': 419.0, 'New Homestead': 666.0, 'Lincoln Place': 126.0, nan: nan, 'Oakwood': nan, 'Banksville': nan, 'Chartiers City': 2571.0, 'Summer Hill': 937.0, 'Troy Hill': nan, 'Middle Hill': nan, 'Crawford-Roberts': nan}\n"
     ]
    }
   ],
   "source": [
    "traffic = {}\n",
    "\n",
    "# Create a dictionary based off the item name and the quantity of that item\n",
    "for index, row in chip.iterrows():\n",
    "    # We must include the second condition since the first time we add a neighborhood, it might be NaN, which we cannot use\n",
    "    if row[\"neighborhood\"] not in traffic and row[\"average_daily_car_traffic\"] != \"\":\n",
    "        traffic[row[\"neighborhood\"]] = row[\"average_daily_car_traffic\"]\n",
    "        \n",
    "print(traffic)"
   ]
  },
  {
   "cell_type": "code",
   "execution_count": 6,
   "metadata": {},
   "outputs": [
    {
     "name": "stdout",
     "output_type": "stream",
     "text": [
      "The neighorhood with the least amount of traffic is: Central Northside\n",
      "With a average daily traffic count of: 23.0\n"
     ]
    }
   ],
   "source": [
    "lowest_neighborhood = \"\"\n",
    "lowest_neighborhood_average_traffic = 10000000 # starter number\n",
    "# Check each number of average traffic to see if it is less than the current lowest value\n",
    "for index, row in chip.iterrows():\n",
    "    # We must include the second condition since the first time we add a neighborhood, it might be NaN, which we cannot use\n",
    "    if row[\"average_daily_car_traffic\"] < lowest_neighborhood_average_traffic:\n",
    "        lowest_neighborhood_average_traffic = row[\"average_daily_car_traffic\"]\n",
    "        lowest_neighborhood = row[\"neighborhood\"]\n",
    "        \n",
    "print(\"The neighorhood with the least amount of traffic is: \" + lowest_neighborhood)\n",
    "print(\"With a average daily traffic count of: \" + str(lowest_neighborhood_average_traffic))"
   ]
  },
  {
   "cell_type": "markdown",
   "metadata": {},
   "source": [
    "## With this information, I wanted to see if Central Northside did indeed have the least amount of daily traffic. I looked at the spreadsheet and it turned out this was only one of the datapoints. Another Central Northside datapoint had 3190 as the average_daily_car_traffic. Now knowing that this code is faulty, I decided that I would need to calculate an average for all of neighborhoods that have multiple datapoints."
   ]
  },
  {
   "cell_type": "code",
   "execution_count": 26,
   "metadata": {},
   "outputs": [
    {
     "name": "stdout",
     "output_type": "stream",
     "text": [
      "[2649.0, nan, nan, nan, nan, nan, nan, nan, nan, nan, nan, 11500.0, nan, nan, nan, nan, nan, nan, nan, nan, nan, nan, 2443.5, nan, nan, nan, 16729.0, 3823.0, nan, nan, nan, nan, nan, nan, 4068.0, 2129.3, nan, nan, nan, nan, nan, 5831.0, nan, nan, nan, nan, nan, nan, nan, 2386.0, 1924.0, nan, nan, 477.0, 2217.1428571428573, nan, nan, nan, 4964.0, nan, nan, nan, 1226.0, nan, 419.0, 666.0, 126.0, 126.0, nan, nan, 2571.0, nan, nan, nan, nan]\n"
     ]
    }
   ],
   "source": [
    "import statistics as st\n",
    "traffic_count = []\n",
    "temp_array = []\n",
    "neighborhoods = []\n",
    "# take each traffic count data point for all neighborhoods, calculate an average, and then create a dataframe from it\n",
    "\n",
    "# Start by creating an list of all the neighborhoods\n",
    "for index, row in chip.iterrows():\n",
    "    if row[\"neighborhood\"] not in neighborhoods:\n",
    "        neighborhoods.append(row[\"neighborhood\"])\n",
    "# Now for each neighborhood, add each datapoint it has to a list, calculate the average, then append that list to traffic_count\n",
    "for neighborhood in neighborhoods:\n",
    "    for index, row in chip.iterrows():\n",
    "        if row[\"neighborhood\"] == neighborhood and row[\"average_daily_car_traffic\"] != \"nan\":\n",
    "                temp_array.append(row[\"average_daily_car_traffic\"])\n",
    "    \n",
    "    # After we add the datapoints for the neighborhood, we calculate the average and then add it to traffic count\n",
    "    if len(temp_array) > 0:\n",
    "        traffic_average = st.mean(temp_array)\n",
    "    traffic_count.append(traffic_average)\n",
    "    # Now we clear temp_array for use in the next iteration of the loop\n",
    "    temp_array.clear()\n",
    "\n",
    "# Print the final product\n",
    "print(str(traffic_count))"
   ]
  },
  {
   "cell_type": "markdown",
   "metadata": {},
   "source": [
    "## I wanted to make sure that this data was correct, so I manually caclulated the average for the first neighborhood, which is Polish hill. I got the number that is first in the array for the previous code cell, so I know my work is correct."
   ]
  },
  {
   "cell_type": "code",
   "execution_count": 13,
   "metadata": {},
   "outputs": [
    {
     "name": "stdout",
     "output_type": "stream",
     "text": [
      "[2649.0]\n"
     ]
    }
   ],
   "source": [
    "import statistics as st\n",
    "traffic_count = []\n",
    "temp_array = []\n",
    "neighborhoods = []\n",
    "# take each traffic count data point for all neighborhoods, calculate an average, and then create a dataframe from it\n",
    "\n",
    "for index, row in chip.iterrows():\n",
    "    if row[\"neighborhood\"] == \"Polish Hill\":\n",
    "        temp_array.append(row[\"average_daily_car_traffic\"])\n",
    "    \n",
    "# After we add the datapoints for the neighborhood, we calculate the average and then add it to traffic count\n",
    "if len(temp_array) > 0:\n",
    "    traffic_average = st.mean(temp_array)\n",
    "    traffic_count.append(traffic_average)\n",
    "temp_array.clear()\n",
    "print(str(traffic_count))"
   ]
  },
  {
   "cell_type": "markdown",
   "metadata": {},
   "source": [
    "## My new problem is that I cannot get rid of nan, so I must create a query for the average_daily_car_traffic and create a new dataframe from those datapoints to only include the datapoints that have numbers.\n",
    "## I then create a dictionary from the lists of neighborhoods and average daily car traffic to then display the 5 neighborhoods that have the lowest amount of daily traffic.\n",
    "## We have data on 65 out of the 75 neighborhoods in the dataset, which is good enough to go off of."
   ]
  },
  {
   "cell_type": "code",
   "execution_count": 5,
   "metadata": {},
   "outputs": [
    {
     "name": "stdout",
     "output_type": "stream",
     "text": [
      "{'Polish Hill': 2649.0, 'Squirrel Hill South': 3263.6666666666665, 'Central Northside': 1189.0, 'Bluff': 1788.3333333333333, 'Crafton Heights': 11500.0, 'Highland Park': 2593.6666666666665, 'North Shore': 10350.0, 'East Liberty': 4693.25, 'Mount Washington': 5637.25, 'Brookline': 6204.666666666667, 'Shadyside': 4238.5, 'Squirrel Hill North': 2547.1428571428573, 'Bloomfield': 3189.625, 'Larimer': 3545.4444444444443, 'Friendship': 4448.0, 'Point Breeze': 4877.666666666667, 'Regent Square': 16729.0, 'Central Lawrenceville': 2249.8333333333335, 'Knoxville': 527.0, 'Central Oakland': 3768.6666666666665, 'Strip District': 9691.666666666666, 'Windgap': 1531.0, 'Beechview': 1418.3333333333333, 'Upper Hill': 953.3333333333334, 'Stanton Heights': 4085.3333333333335, 'Manchester': 2303.6666666666665, 'South Side Slopes': 3778.1428571428573, 'Perry North': 2309.5714285714284, 'North Oakland': 6064.5, 'East Hills': 8126.5, 'Duquesne Heights': 5831.0, 'Sheraden': 2844.0, 'Morningside': 2049.285714285714, 'Central Business District': 2305.0, 'St. Clair': 2436.0, 'Perry South': 2631.0, 'Carrick': 3166.5, 'Westwood': 7700.0, 'Allegheny Center': 2386.0, 'Elliott': 3427.0, 'East Allegheny': 1924.0, 'Overbrook': 777.0, 'Allegheny West': 477.0, 'Marshall-Shadeland': 757.25, 'Lower Lawrenceville': 1736.0, 'Arlington': 2285.5, 'Homewood North': 3513.5, 'Homewood South': 3734.75, 'Point Breeze North': 4964.0, 'Greenfield': 3091.0, 'Hazelwood': 1289.5, 'Spring Hill-City View': 1293.0, 'Fineview': 419.0, 'Brighton Heights': 2697.0, 'South Side Flats': 115.0, 'Lincoln-Lemington-Belmar': 195.0, 'New Homestead': 666.0, 'Lincoln Place': 126.0, 'California-Kirkbride': 5843.0, 'Chartiers City': 2571.0, nan: 2571.0, 'Summer Hill': 937.0, 'West Oakland': 2585.0}\n",
      "\n",
      "Top five neighborhoods with the least amount of daily traffic:\n",
      "1. South Side Flats: 115.0 cars\n",
      "2. Lincoln Place: 126.0 cars\n",
      "3. Lincoln-Lemington-Belmar: 195.0 cars\n",
      "4. Fineview: 419.0 cars\n",
      "5. Allegheny West: 477.0 cars\n"
     ]
    }
   ],
   "source": [
    "import statistics as st\n",
    "# We cut out the rows in which the average_daily_car_traffic is nan\n",
    "chip.dropna(subset=[\"average_daily_car_traffic\"],inplace=True)\n",
    "traffic_count = []\n",
    "temp_array = []\n",
    "neighborhoods = []\n",
    "traffic_dictionary = {}\n",
    "lowest_traffic = []\n",
    "top_neighborhoods = []\n",
    "# take each traffic count data point for all neighborhoods, calculate an average, and then create a dataframe from it\n",
    "\n",
    "# Start by creating an list of all the neighborhoods\n",
    "for index, row in chip.iterrows():\n",
    "    if row[\"neighborhood\"] not in neighborhoods:\n",
    "        neighborhoods.append(row[\"neighborhood\"])\n",
    "# Now for each neighborhood, add each datapoint it has to a list, calculate the average, then append that list to traffic_count\n",
    "for neighborhood in neighborhoods:\n",
    "    for index, row in chip.iterrows():\n",
    "        if row[\"neighborhood\"] == neighborhood:\n",
    "                temp_array.append(row[\"average_daily_car_traffic\"])\n",
    "    \n",
    "    # After we add the datapoints for the neighborhood, we calculate the average and then add it to traffic count\n",
    "    if len(temp_array) > 0:\n",
    "        traffic_average = st.mean(temp_array)\n",
    "    traffic_count.append(traffic_average)\n",
    "    # Now we clear temp_array for use in the next iteration of the loop\n",
    "    temp_array.clear()\n",
    "\n",
    "# Print the final product\n",
    "traffic_dictionary = {neighborhoods[i]: traffic_count[i] for i in range(len(neighborhoods))}\n",
    "print(traffic_dictionary)\n",
    "\n",
    "print(\"\")\n",
    "\n",
    "# Print out the top 5 neighborhoods with the least amount of daily traffic\n",
    "print(\"Top five neighborhoods with the least amount of daily traffic:\")\n",
    "for item in range(5):\n",
    "    best_neighborhood = min(traffic_dictionary, key=traffic_dictionary.get)\n",
    "    print(str(item + 1) + \". \" + best_neighborhood + \": \" + str(traffic_dictionary[best_neighborhood]) + \" cars\")\n",
    "    \n",
    "    # Add the value of the neighborhood to this array so we can later display the top five in a bar graph\n",
    "    lowest_traffic.append(traffic_dictionary[best_neighborhood])\n",
    "    top_neighborhoods.append(best_neighborhood)\n",
    "    traffic_dictionary.pop(best_neighborhood)"
   ]
  },
  {
   "cell_type": "code",
   "execution_count": 6,
   "metadata": {},
   "outputs": [
    {
     "data": {
      "text/plain": [
       "<matplotlib.axes._subplots.AxesSubplot at 0x7f2f50df5ca0>"
      ]
     },
     "execution_count": 6,
     "metadata": {},
     "output_type": "execute_result"
    },
    {
     "data": {
      "image/png": "[encoded data removed]",
      "text/plain": [
       "<Figure size 432x288 with 1 Axes>"
      ]
     },
     "metadata": {
      "needs_background": "light"
     },
     "output_type": "display_data"
    }
   ],
   "source": [
    "# create a new DataFrame to use for the \n",
    "df_traffic = pd.DataFrame(lowest_traffic, \n",
    "                   columns=['Traffic Count'], \n",
    "                   index=top_neighborhoods)\n",
    "\n",
    "# Plot a bar chart\n",
    "df_traffic.plot(kind=\"bar\")"
   ]
  },
  {
   "cell_type": "markdown",
   "metadata": {},
   "source": [
    "## Now we create a DataFrame of all the data and store it for use by others."
   ]
  },
  {
   "cell_type": "code",
   "execution_count": 37,
   "metadata": {},
   "outputs": [
    {
     "name": "stdout",
     "output_type": "stream",
     "text": [
      "\n",
      "Top five neighborhoods with the least amount of daily traffic:\n",
      "1. South Side Flats: 115.0 cars\n",
      "2. Lincoln Place: 126.0 cars\n",
      "3. Lincoln-Lemington-Belmar: 195.0 cars\n",
      "4. Fineview: 419.0 cars\n",
      "5. Allegheny West: 477.0 cars\n",
      "6. Knoxville: 527.0 cars\n",
      "7. New Homestead: 666.0 cars\n",
      "8. Marshall-Shadeland: 757.25 cars\n",
      "9. Overbrook: 777.0 cars\n",
      "10. Summer Hill: 937.0 cars\n",
      "11. Upper Hill: 953.3333333333334 cars\n",
      "12. Central Northside: 1189.0 cars\n",
      "13. Hazelwood: 1289.5 cars\n",
      "14. Spring Hill-City View: 1293.0 cars\n",
      "15. Beechview: 1418.3333333333333 cars\n",
      "16. Windgap: 1531.0 cars\n",
      "17. Lower Lawrenceville: 1736.0 cars\n",
      "18. Bluff: 1788.3333333333333 cars\n",
      "19. East Allegheny: 1924.0 cars\n",
      "20. Morningside: 2049.285714285714 cars\n",
      "21. Central Lawrenceville: 2249.8333333333335 cars\n",
      "22. Arlington: 2285.5 cars\n",
      "23. Manchester: 2303.6666666666665 cars\n",
      "24. Central Business District: 2305.0 cars\n",
      "25. Perry North: 2309.5714285714284 cars\n",
      "26. Allegheny Center: 2386.0 cars\n",
      "27. St. Clair: 2436.0 cars\n",
      "28. Squirrel Hill North: 2547.1428571428573 cars\n",
      "29. Chartiers City: 2571.0 cars\n",
      "30. nan: 2571.0 cars\n",
      "31. West Oakland: 2585.0 cars\n",
      "32. Highland Park: 2593.6666666666665 cars\n",
      "33. Perry South: 2631.0 cars\n",
      "34. Polish Hill: 2649.0 cars\n",
      "35. Brighton Heights: 2697.0 cars\n",
      "36. Sheraden: 2844.0 cars\n",
      "37. Greenfield: 3091.0 cars\n",
      "38. Carrick: 3166.5 cars\n",
      "39. Bloomfield: 3189.625 cars\n",
      "40. Squirrel Hill South: 3263.6666666666665 cars\n",
      "41. Elliott: 3427.0 cars\n",
      "42. Homewood North: 3513.5 cars\n",
      "43. Larimer: 3545.4444444444443 cars\n",
      "44. Homewood South: 3734.75 cars\n",
      "45. Central Oakland: 3768.6666666666665 cars\n",
      "46. South Side Slopes: 3778.1428571428573 cars\n",
      "47. Stanton Heights: 4085.3333333333335 cars\n",
      "48. Shadyside: 4238.5 cars\n",
      "49. Friendship: 4448.0 cars\n",
      "50. East Liberty: 4693.25 cars\n",
      "51. Point Breeze: 4877.666666666667 cars\n",
      "52. Point Breeze North: 4964.0 cars\n",
      "53. Mount Washington: 5637.25 cars\n",
      "54. Duquesne Heights: 5831.0 cars\n",
      "55. California-Kirkbride: 5843.0 cars\n",
      "56. North Oakland: 6064.5 cars\n",
      "57. Brookline: 6204.666666666667 cars\n",
      "58. Westwood: 7700.0 cars\n",
      "59. East Hills: 8126.5 cars\n",
      "60. Strip District: 9691.666666666666 cars\n",
      "61. North Shore: 10350.0 cars\n",
      "62. Crafton Heights: 11500.0 cars\n",
      "63. Regent Square: 16729.0 cars\n"
     ]
    }
   ],
   "source": [
    "import statistics as st\n",
    "# We cut out the rows in which the average_daily_car_traffic is nan\n",
    "chip.dropna(subset=[\"average_daily_car_traffic\"],inplace=True)\n",
    "traffic_count = []\n",
    "temp_array = []\n",
    "neighborhoods = []\n",
    "traffic_dictionary = {}\n",
    "lowest_traffic = []\n",
    "top_neighborhoods = []\n",
    "# take each traffic count data point for all neighborhoods, calculate an average, and then create a dataframe from it\n",
    "\n",
    "# Start by creating an list of all the neighborhoods\n",
    "for index, row in chip.iterrows():\n",
    "    if row[\"neighborhood\"] not in neighborhoods:\n",
    "        neighborhoods.append(row[\"neighborhood\"])\n",
    "# Now for each neighborhood, add each datapoint it has to a list, calculate the average, then append that list to traffic_count\n",
    "for neighborhood in neighborhoods:\n",
    "    for index, row in chip.iterrows():\n",
    "        if row[\"neighborhood\"] == neighborhood:\n",
    "                temp_array.append(row[\"average_daily_car_traffic\"])\n",
    "    \n",
    "    # After we add the datapoints for the neighborhood, we calculate the average and then add it to traffic count\n",
    "    if len(temp_array) > 0:\n",
    "        traffic_average = st.mean(temp_array)\n",
    "    traffic_count.append(traffic_average)\n",
    "    # Now we clear temp_array for use in the next iteration of the loop\n",
    "    temp_array.clear()\n",
    "\n",
    "# Print the final product\n",
    "traffic_dictionary = {neighborhoods[i]: traffic_count[i] for i in range(len(neighborhoods))}\n",
    "\n",
    "\n",
    "print(\"\")\n",
    "\n",
    "# Print out the top 5 neighborhoods with the least amount of daily traffic\n",
    "print(\"Top five neighborhoods with the least amount of daily traffic:\")\n",
    "for item in range(len(traffic_dictionary)):\n",
    "    best_neighborhood = min(traffic_dictionary, key=traffic_dictionary.get)\n",
    "    print(str(item + 1) + \". \" + str(best_neighborhood) + \": \" + str(traffic_dictionary[best_neighborhood]) + \" cars\")\n",
    "    \n",
    "    # Add the value of the neighborhood to this array so we can later display the top five in a bar graph\n",
    "    lowest_traffic.append(traffic_dictionary[best_neighborhood])\n",
    "    top_neighborhoods.append(best_neighborhood)\n",
    "    traffic_dictionary.pop(best_neighborhood)"
   ]
  },
  {
   "cell_type": "code",
   "execution_count": 39,
   "metadata": {},
   "outputs": [
    {
     "name": "stdout",
     "output_type": "stream",
     "text": [
      "Stored 'df_traffic' (DataFrame)\n"
     ]
    },
    {
     "data": {
      "image/png": "[encoded data removed]",
      "text/plain": [
       "<Figure size 1440x720 with 1 Axes>"
      ]
     },
     "metadata": {
      "needs_background": "light"
     },
     "output_type": "display_data"
    }
   ],
   "source": [
    "# create a new DataFrame to use for the \n",
    "df_traffic = pd.DataFrame(lowest_traffic, \n",
    "                   columns=['Traffic Count'], \n",
    "                   index=top_neighborhoods)\n",
    "\n",
    "# Plot a bar chart\n",
    "df_traffic.plot(kind=\"bar\", figsize=(20,10))\n",
    "\n",
    "%store df_traffic"
   ]
  },
  {
   "cell_type": "markdown",
   "metadata": {},
   "source": [
    "## Now we must rewrite the code to track the neighborhoods with the least percent_over_limit."
   ]
  },
  {
   "cell_type": "code",
   "execution_count": 42,
   "metadata": {},
   "outputs": [
    {
     "name": "stdout",
     "output_type": "stream",
     "text": [
      "{'Polish Hill': 45.0, 'Squirrel Hill South': 57.208333333333336, 'Central Northside': 18.4, 'Bluff': 14.666666666666666, 'Crafton Heights': 98.0, 'Highland Park': 32.0, 'North Shore': 78.0, 'East Liberty': 65.625, 'Mount Washington': 75.25, 'Brookline': 61.166666666666664, 'Shadyside': 46.0, 'Squirrel Hill North': 48.57142857142857, 'Bloomfield': 24.75, 'Larimer': 48.77777777777778, 'Friendship': 68.0, 'Point Breeze': 64.5, 'Regent Square': 86.0, 'Central Lawrenceville': 18.5, 'Knoxville': 25.0, 'Central Oakland': 25.666666666666668, 'Strip District': 60.333333333333336, 'Windgap': 36.5, 'Beechview': 59.0, 'Upper Hill': 24.333333333333332, 'Stanton Heights': 81.33333333333333, 'Manchester': 40.111111111111114, 'South Side Slopes': 59.42857142857143, 'Perry North': 57.42857142857143, 'North Oakland': 58.5, 'East Hills': 79.5, 'Duquesne Heights': 48.0, 'Sheraden': 61.0, 'Morningside': 47.0, 'Central Business District': 6.0, 'St. Clair': 85.0, 'Perry South': 25.666666666666668, 'Carrick': 45.5, 'Westwood': 59.5, 'Allegheny Center': 65.0, 'Elliott': 97.0, 'East Allegheny': 38.0, 'Overbrook': 58.0, 'Allegheny West': 11.0, 'Marshall-Shadeland': 34.75, 'Lower Lawrenceville': 42.5, 'Arlington': 61.5, 'Homewood North': 48.0, 'Homewood South': 64.0, 'Point Breeze North': 88.0, 'Greenfield': 65.5, 'Hazelwood': 71.5, 'Spring Hill-City View': 30.5, 'Fineview': 47.0, 'Brighton Heights': 82.0, 'South Side Flats': 3.0, 'Lincoln-Lemington-Belmar': 19.0, 'New Homestead': 39.0, 'Lincoln Place': 14.0, 'California-Kirkbride': 73.0, 'Chartiers City': 78.0, nan: 78.0, 'Summer Hill': 55.0, 'West Oakland': 28.0}\n",
      "\n",
      "Top five neighborhoods with the least percent of cars going over the speed limit:\n",
      "1. South Side Flats: 3.0%\n",
      "2. Central Business District: 6.0%\n",
      "3. Allegheny West: 11.0%\n",
      "4. Lincoln Place: 14.0%\n",
      "5. Bluff: 14.666666666666666%\n"
     ]
    }
   ],
   "source": [
    "import statistics as st\n",
    "# We cut out the rows in which the percent_over_limit is nan\n",
    "chip.dropna(subset=[\"percent_over_limit\"],inplace=True)\n",
    "percents = []\n",
    "temp_array = []\n",
    "neighborhoods = []\n",
    "percents_dictionary = {}\n",
    "top_percents = []\n",
    "top_neighborhoods = []\n",
    "# take each percent_over_limit data point for all neighborhoods, calculate an average, and then create a dataframe from it\n",
    "\n",
    "# Start by creating an list of all the neighborhoods\n",
    "for index, row in chip.iterrows():\n",
    "    if row[\"neighborhood\"] not in neighborhoods:\n",
    "        neighborhoods.append(row[\"neighborhood\"])\n",
    "# Now for each neighborhood, add each datapoint it has to a list, calculate the average, then append that list to traffic_count\n",
    "for neighborhood in neighborhoods:\n",
    "    for index, row in chip.iterrows():\n",
    "        if row[\"neighborhood\"] == neighborhood:\n",
    "                temp_array.append(row[\"percent_over_limit\"])\n",
    "    \n",
    "    # After we add the datapoints for the neighborhood, we calculate the average and then add it to traffic count\n",
    "    if len(temp_array) > 0:\n",
    "        percent_average = st.mean(temp_array)\n",
    "    percents.append(percent_average)\n",
    "    # Now we clear temp_array for use in the next iteration of the loop\n",
    "    temp_array.clear()\n",
    "\n",
    "# Print the final product\n",
    "percents_dictionary = {neighborhoods[i]: percents[i] for i in range(len(neighborhoods))}\n",
    "print(percents_dictionary)\n",
    "\n",
    "print(\"\")\n",
    "\n",
    "# Print out the top 5 neighborhoods with the least amount of daily traffic\n",
    "print(\"Top five neighborhoods with the least percent of cars going over the speed limit:\")\n",
    "for item in range(5):\n",
    "    best_neighborhood = min(percents_dictionary, key=percents_dictionary.get)\n",
    "    print(str(item + 1) + \". \" + best_neighborhood + \": \" + str(percents_dictionary[best_neighborhood]) + \"%\")\n",
    "    \n",
    "    # Add the value of the neighborhood to this array so we can later display the top five in a bar graph\n",
    "    top_percents.append(percents_dictionary[best_neighborhood])\n",
    "    top_neighborhoods.append(best_neighborhood)\n",
    "    percents_dictionary.pop(best_neighborhood)\n",
    "    "
   ]
  },
  {
   "cell_type": "code",
   "execution_count": 43,
   "metadata": {},
   "outputs": [
    {
     "data": {
      "text/plain": [
       "<matplotlib.axes._subplots.AxesSubplot at 0x7fb25e375af0>"
      ]
     },
     "execution_count": 43,
     "metadata": {},
     "output_type": "execute_result"
    },
    {
     "data": {
      "image/png": "[encoded data removed]",
      "text/plain": [
       "<Figure size 432x288 with 1 Axes>"
      ]
     },
     "metadata": {
      "needs_background": "light"
     },
     "output_type": "display_data"
    }
   ],
   "source": [
    "# create a new DataFrame to use for the \n",
    "df_percents = pd.DataFrame(top_percents, \n",
    "                   columns=['Percent Over Limit'], \n",
    "                   index=top_neighborhoods)\n",
    "\n",
    "# Plot a bar chart\n",
    "df_percents.plot(kind=\"bar\")\n",
    "\n"
   ]
  },
  {
   "cell_type": "markdown",
   "metadata": {},
   "source": [
    "# Once again, we create another DataFrame with the percent over limit to share with others"
   ]
  },
  {
   "cell_type": "code",
   "execution_count": 44,
   "metadata": {},
   "outputs": [
    {
     "name": "stdout",
     "output_type": "stream",
     "text": [
      "{'Polish Hill': 45.0, 'Squirrel Hill South': 57.208333333333336, 'Central Northside': 18.4, 'Bluff': 14.666666666666666, 'Crafton Heights': 98.0, 'Highland Park': 32.0, 'North Shore': 78.0, 'East Liberty': 65.625, 'Mount Washington': 75.25, 'Brookline': 61.166666666666664, 'Shadyside': 46.0, 'Squirrel Hill North': 48.57142857142857, 'Bloomfield': 24.75, 'Larimer': 48.77777777777778, 'Friendship': 68.0, 'Point Breeze': 64.5, 'Regent Square': 86.0, 'Central Lawrenceville': 18.5, 'Knoxville': 25.0, 'Central Oakland': 25.666666666666668, 'Strip District': 60.333333333333336, 'Windgap': 36.5, 'Beechview': 59.0, 'Upper Hill': 24.333333333333332, 'Stanton Heights': 81.33333333333333, 'Manchester': 40.111111111111114, 'South Side Slopes': 59.42857142857143, 'Perry North': 57.42857142857143, 'North Oakland': 58.5, 'East Hills': 79.5, 'Duquesne Heights': 48.0, 'Sheraden': 61.0, 'Morningside': 47.0, 'Central Business District': 6.0, 'St. Clair': 85.0, 'Perry South': 25.666666666666668, 'Carrick': 45.5, 'Westwood': 59.5, 'Allegheny Center': 65.0, 'Elliott': 97.0, 'East Allegheny': 38.0, 'Overbrook': 58.0, 'Allegheny West': 11.0, 'Marshall-Shadeland': 34.75, 'Lower Lawrenceville': 42.5, 'Arlington': 61.5, 'Homewood North': 48.0, 'Homewood South': 64.0, 'Point Breeze North': 88.0, 'Greenfield': 65.5, 'Hazelwood': 71.5, 'Spring Hill-City View': 30.5, 'Fineview': 47.0, 'Brighton Heights': 82.0, 'South Side Flats': 3.0, 'Lincoln-Lemington-Belmar': 19.0, 'New Homestead': 39.0, 'Lincoln Place': 14.0, 'California-Kirkbride': 73.0, 'Chartiers City': 78.0, nan: 78.0, 'Summer Hill': 55.0, 'West Oakland': 28.0}\n",
      "\n",
      "Top five neighborhoods with the least percent of cars going over the speed limit:\n",
      "1. South Side Flats: 3.0%\n",
      "2. Central Business District: 6.0%\n",
      "3. Allegheny West: 11.0%\n",
      "4. Lincoln Place: 14.0%\n",
      "5. Bluff: 14.666666666666666%\n",
      "6. Central Northside: 18.4%\n",
      "7. Central Lawrenceville: 18.5%\n",
      "8. Lincoln-Lemington-Belmar: 19.0%\n",
      "9. Upper Hill: 24.333333333333332%\n",
      "10. Bloomfield: 24.75%\n",
      "11. Knoxville: 25.0%\n",
      "12. Central Oakland: 25.666666666666668%\n",
      "13. Perry South: 25.666666666666668%\n",
      "14. West Oakland: 28.0%\n",
      "15. Spring Hill-City View: 30.5%\n",
      "16. Highland Park: 32.0%\n",
      "17. Marshall-Shadeland: 34.75%\n",
      "18. Windgap: 36.5%\n",
      "19. East Allegheny: 38.0%\n",
      "20. New Homestead: 39.0%\n",
      "21. Manchester: 40.111111111111114%\n",
      "22. Lower Lawrenceville: 42.5%\n",
      "23. Polish Hill: 45.0%\n",
      "24. Carrick: 45.5%\n",
      "25. Shadyside: 46.0%\n",
      "26. Morningside: 47.0%\n",
      "27. Fineview: 47.0%\n",
      "28. Duquesne Heights: 48.0%\n",
      "29. Homewood North: 48.0%\n",
      "30. Squirrel Hill North: 48.57142857142857%\n",
      "31. Larimer: 48.77777777777778%\n",
      "32. Summer Hill: 55.0%\n",
      "33. Squirrel Hill South: 57.208333333333336%\n",
      "34. Perry North: 57.42857142857143%\n",
      "35. Overbrook: 58.0%\n",
      "36. North Oakland: 58.5%\n",
      "37. Beechview: 59.0%\n",
      "38. South Side Slopes: 59.42857142857143%\n",
      "39. Westwood: 59.5%\n",
      "40. Strip District: 60.333333333333336%\n",
      "41. Sheraden: 61.0%\n",
      "42. Brookline: 61.166666666666664%\n",
      "43. Arlington: 61.5%\n",
      "44. Homewood South: 64.0%\n",
      "45. Point Breeze: 64.5%\n",
      "46. Allegheny Center: 65.0%\n",
      "47. Greenfield: 65.5%\n",
      "48. East Liberty: 65.625%\n",
      "49. Friendship: 68.0%\n",
      "50. Hazelwood: 71.5%\n",
      "51. California-Kirkbride: 73.0%\n",
      "52. Mount Washington: 75.25%\n",
      "53. North Shore: 78.0%\n",
      "54. Chartiers City: 78.0%\n",
      "55. nan: 78.0%\n",
      "56. East Hills: 79.5%\n",
      "57. Stanton Heights: 81.33333333333333%\n",
      "58. Brighton Heights: 82.0%\n",
      "59. St. Clair: 85.0%\n",
      "60. Regent Square: 86.0%\n",
      "61. Point Breeze North: 88.0%\n",
      "62. Elliott: 97.0%\n",
      "63. Crafton Heights: 98.0%\n"
     ]
    }
   ],
   "source": [
    "import statistics as st\n",
    "# We cut out the rows in which the percent_over_limit is nan\n",
    "chip.dropna(subset=[\"percent_over_limit\"],inplace=True)\n",
    "percents = []\n",
    "temp_array = []\n",
    "neighborhoods = []\n",
    "percents_dictionary = {}\n",
    "top_percents = []\n",
    "top_neighborhoods = []\n",
    "# take each percent_over_limit data point for all neighborhoods, calculate an average, and then create a dataframe from it\n",
    "\n",
    "# Start by creating an list of all the neighborhoods\n",
    "for index, row in chip.iterrows():\n",
    "    if row[\"neighborhood\"] not in neighborhoods:\n",
    "        neighborhoods.append(row[\"neighborhood\"])\n",
    "# Now for each neighborhood, add each datapoint it has to a list, calculate the average, then append that list to traffic_count\n",
    "for neighborhood in neighborhoods:\n",
    "    for index, row in chip.iterrows():\n",
    "        if row[\"neighborhood\"] == neighborhood:\n",
    "                temp_array.append(row[\"percent_over_limit\"])\n",
    "    \n",
    "    # After we add the datapoints for the neighborhood, we calculate the average and then add it to traffic count\n",
    "    if len(temp_array) > 0:\n",
    "        percent_average = st.mean(temp_array)\n",
    "    percents.append(percent_average)\n",
    "    # Now we clear temp_array for use in the next iteration of the loop\n",
    "    temp_array.clear()\n",
    "\n",
    "# Print the final product\n",
    "percents_dictionary = {neighborhoods[i]: percents[i] for i in range(len(neighborhoods))}\n",
    "print(percents_dictionary)\n",
    "\n",
    "print(\"\")\n",
    "\n",
    "# Print out the top 5 neighborhoods with the least amount of daily traffic\n",
    "print(\"Top five neighborhoods with the least percent of cars going over the speed limit:\")\n",
    "for item in range(len(percents_dictionary)):\n",
    "    best_neighborhood = min(percents_dictionary, key=percents_dictionary.get)\n",
    "    print(str(item + 1) + \". \" + str(best_neighborhood) + \": \" + str(percents_dictionary[best_neighborhood]) + \"%\")\n",
    "    \n",
    "    # Add the value of the neighborhood to this array so we can later display the top five in a bar graph\n",
    "    top_percents.append(percents_dictionary[best_neighborhood])\n",
    "    top_neighborhoods.append(best_neighborhood)\n",
    "    percents_dictionary.pop(best_neighborhood)\n",
    "    "
   ]
  },
  {
   "cell_type": "code",
   "execution_count": 45,
   "metadata": {},
   "outputs": [
    {
     "name": "stdout",
     "output_type": "stream",
     "text": [
      "Stored 'df_percents' (DataFrame)\n"
     ]
    },
    {
     "data": {
      "image/png": "[encoded data removed]",
      "text/plain": [
       "<Figure size 1440x720 with 1 Axes>"
      ]
     },
     "metadata": {
      "needs_background": "light"
     },
     "output_type": "display_data"
    }
   ],
   "source": [
    "# create a new DataFrame to use for the \n",
    "df_percents = pd.DataFrame(top_percents, \n",
    "                   columns=['Percent Over Limit'], \n",
    "                   index=top_neighborhoods)\n",
    "\n",
    "# Plot a bar chart\n",
    "df_percents.plot(kind=\"bar\", figsize=(20,10))\n",
    "\n",
    "%store df_percents"
   ]
  },
  {
   "cell_type": "markdown",
   "metadata": {},
   "source": [
    "# Conclusion"
   ]
  },
  {
   "cell_type": "markdown",
   "metadata": {},
   "source": [
    "## Considering the fact that higher traffic and higher speeds increase the likelyhood of accident and severity of injury, the columns of this data set we are taking into consideration are average_daily_car_traffic and percent_over_limit."
   ]
  },
  {
   "cell_type": "markdown",
   "metadata": {},
   "source": [
    "## 1. Create a dictionary of neighborhoods and average_daily_car_traffic \n",
    "## 2. Create a dictionary of neighborhoods and percent_over_limit \n",
    "## 3. Check which neighborhoods have the least amount of traffic\n",
    "## 4. Check which neighborhoods have the least percent_over_limit"
   ]
  },
  {
   "cell_type": "markdown",
   "metadata": {},
   "source": [
    "## According to this sub metric, South Side Flats would be the best place to live in terms of its walkability.\\\n",
    "## I would prefer to live in bloomfield, since the street I live on (Gross Street) is quiet. Gross Street has great walkability and considering South Side Flats does too (according to this experiment) and considering the fact that they are only 12 minutes away from each other, this experiment is most likely accurate."
   ]
  }
 ],
 "metadata": {
  "kernelspec": {
   "display_name": "Python 3",
   "language": "python",
   "name": "python3"
  },
  "language_info": {
   "codemirror_mode": {
    "name": "ipython",
    "version": 3
   },
   "file_extension": ".py",
   "mimetype": "text/x-python",
   "name": "python",
   "nbconvert_exporter": "python",
   "pygments_lexer": "ipython3",
   "version": "3.8.3"
  }
 },
 "nbformat": 4,
 "nbformat_minor": 4
}
